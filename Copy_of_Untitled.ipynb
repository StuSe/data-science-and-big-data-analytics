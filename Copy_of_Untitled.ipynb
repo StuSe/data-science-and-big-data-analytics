{
  "nbformat": 4,
  "nbformat_minor": 0,
  "metadata": {
    "colab": {
      "name": "Copy of Untitled",
      "provenance": [],
      "include_colab_link": true
    },
    "kernelspec": {
      "name": "python3",
      "display_name": "Python 3"
    },
    "widgets": {
      "application/vnd.jupyter.widget-state+json": {
        "3f64bebd51fc4b6aa0d5f2be88c07ac4": {
          "model_module": "@jupyter-widgets/controls",
          "model_name": "HBoxModel",
          "state": {
            "_view_name": "HBoxView",
            "_dom_classes": [],
            "_model_name": "HBoxModel",
            "_view_module": "@jupyter-widgets/controls",
            "_model_module_version": "1.5.0",
            "_view_count": null,
            "_view_module_version": "1.5.0",
            "box_style": "",
            "layout": "IPY_MODEL_b54879e1e5214e48bdd6b5eed4a629c2",
            "_model_module": "@jupyter-widgets/controls",
            "children": [
              "IPY_MODEL_7fd999fa18284c89ab39b7dded373971",
              "IPY_MODEL_05cf6d2236604f9bb70dd85d1d875a43"
            ]
          }
        },
        "b54879e1e5214e48bdd6b5eed4a629c2": {
          "model_module": "@jupyter-widgets/base",
          "model_name": "LayoutModel",
          "state": {
            "_view_name": "LayoutView",
            "grid_template_rows": null,
            "right": null,
            "justify_content": null,
            "_view_module": "@jupyter-widgets/base",
            "overflow": null,
            "_model_module_version": "1.2.0",
            "_view_count": null,
            "flex_flow": null,
            "width": null,
            "min_width": null,
            "border": null,
            "align_items": null,
            "bottom": null,
            "_model_module": "@jupyter-widgets/base",
            "top": null,
            "grid_column": null,
            "overflow_y": null,
            "overflow_x": null,
            "grid_auto_flow": null,
            "grid_area": null,
            "grid_template_columns": null,
            "flex": null,
            "_model_name": "LayoutModel",
            "justify_items": null,
            "grid_row": null,
            "max_height": null,
            "align_content": null,
            "visibility": null,
            "align_self": null,
            "height": null,
            "min_height": null,
            "padding": null,
            "grid_auto_rows": null,
            "grid_gap": null,
            "max_width": null,
            "order": null,
            "_view_module_version": "1.2.0",
            "grid_template_areas": null,
            "object_position": null,
            "object_fit": null,
            "grid_auto_columns": null,
            "margin": null,
            "display": null,
            "left": null
          }
        },
        "7fd999fa18284c89ab39b7dded373971": {
          "model_module": "@jupyter-widgets/controls",
          "model_name": "IntProgressModel",
          "state": {
            "_view_name": "ProgressView",
            "style": "IPY_MODEL_a2a2526f09ff4aa580ffd078907942d6",
            "_dom_classes": [],
            "description": " 24%",
            "_model_name": "IntProgressModel",
            "bar_style": "",
            "max": 100,
            "_view_module": "@jupyter-widgets/controls",
            "_model_module_version": "1.5.0",
            "value": 24,
            "_view_count": null,
            "_view_module_version": "1.5.0",
            "orientation": "horizontal",
            "min": 0,
            "description_tooltip": null,
            "_model_module": "@jupyter-widgets/controls",
            "layout": "IPY_MODEL_2c3cd870163f4489af7b797b86fc1ff3"
          }
        },
        "05cf6d2236604f9bb70dd85d1d875a43": {
          "model_module": "@jupyter-widgets/controls",
          "model_name": "HTMLModel",
          "state": {
            "_view_name": "HTMLView",
            "style": "IPY_MODEL_dc869fc7a02541588529518858df0aae",
            "_dom_classes": [],
            "description": "",
            "_model_name": "HTMLModel",
            "placeholder": "​",
            "_view_module": "@jupyter-widgets/controls",
            "_model_module_version": "1.5.0",
            "value": " 24/100 [01:52&lt;05:51,  4.63s/it]",
            "_view_count": null,
            "_view_module_version": "1.5.0",
            "description_tooltip": null,
            "_model_module": "@jupyter-widgets/controls",
            "layout": "IPY_MODEL_b447ba11840243aa8941b6f7951d6267"
          }
        },
        "a2a2526f09ff4aa580ffd078907942d6": {
          "model_module": "@jupyter-widgets/controls",
          "model_name": "ProgressStyleModel",
          "state": {
            "_view_name": "StyleView",
            "_model_name": "ProgressStyleModel",
            "description_width": "initial",
            "_view_module": "@jupyter-widgets/base",
            "_model_module_version": "1.5.0",
            "_view_count": null,
            "_view_module_version": "1.2.0",
            "bar_color": null,
            "_model_module": "@jupyter-widgets/controls"
          }
        },
        "2c3cd870163f4489af7b797b86fc1ff3": {
          "model_module": "@jupyter-widgets/base",
          "model_name": "LayoutModel",
          "state": {
            "_view_name": "LayoutView",
            "grid_template_rows": null,
            "right": null,
            "justify_content": null,
            "_view_module": "@jupyter-widgets/base",
            "overflow": null,
            "_model_module_version": "1.2.0",
            "_view_count": null,
            "flex_flow": null,
            "width": null,
            "min_width": null,
            "border": null,
            "align_items": null,
            "bottom": null,
            "_model_module": "@jupyter-widgets/base",
            "top": null,
            "grid_column": null,
            "overflow_y": null,
            "overflow_x": null,
            "grid_auto_flow": null,
            "grid_area": null,
            "grid_template_columns": null,
            "flex": null,
            "_model_name": "LayoutModel",
            "justify_items": null,
            "grid_row": null,
            "max_height": null,
            "align_content": null,
            "visibility": null,
            "align_self": null,
            "height": null,
            "min_height": null,
            "padding": null,
            "grid_auto_rows": null,
            "grid_gap": null,
            "max_width": null,
            "order": null,
            "_view_module_version": "1.2.0",
            "grid_template_areas": null,
            "object_position": null,
            "object_fit": null,
            "grid_auto_columns": null,
            "margin": null,
            "display": null,
            "left": null
          }
        },
        "dc869fc7a02541588529518858df0aae": {
          "model_module": "@jupyter-widgets/controls",
          "model_name": "DescriptionStyleModel",
          "state": {
            "_view_name": "StyleView",
            "_model_name": "DescriptionStyleModel",
            "description_width": "",
            "_view_module": "@jupyter-widgets/base",
            "_model_module_version": "1.5.0",
            "_view_count": null,
            "_view_module_version": "1.2.0",
            "_model_module": "@jupyter-widgets/controls"
          }
        },
        "b447ba11840243aa8941b6f7951d6267": {
          "model_module": "@jupyter-widgets/base",
          "model_name": "LayoutModel",
          "state": {
            "_view_name": "LayoutView",
            "grid_template_rows": null,
            "right": null,
            "justify_content": null,
            "_view_module": "@jupyter-widgets/base",
            "overflow": null,
            "_model_module_version": "1.2.0",
            "_view_count": null,
            "flex_flow": null,
            "width": null,
            "min_width": null,
            "border": null,
            "align_items": null,
            "bottom": null,
            "_model_module": "@jupyter-widgets/base",
            "top": null,
            "grid_column": null,
            "overflow_y": null,
            "overflow_x": null,
            "grid_auto_flow": null,
            "grid_area": null,
            "grid_template_columns": null,
            "flex": null,
            "_model_name": "LayoutModel",
            "justify_items": null,
            "grid_row": null,
            "max_height": null,
            "align_content": null,
            "visibility": null,
            "align_self": null,
            "height": null,
            "min_height": null,
            "padding": null,
            "grid_auto_rows": null,
            "grid_gap": null,
            "max_width": null,
            "order": null,
            "_view_module_version": "1.2.0",
            "grid_template_areas": null,
            "object_position": null,
            "object_fit": null,
            "grid_auto_columns": null,
            "margin": null,
            "display": null,
            "left": null
          }
        }
      }
    }
  },
  "cells": [
    {
      "cell_type": "markdown",
      "metadata": {
        "id": "view-in-github",
        "colab_type": "text"
      },
      "source": [
        "<a href=\"https://colab.research.google.com/github/StuSe/data-science-and-big-data-analytics/blob/master/Copy_of_Untitled.ipynb\" target=\"_parent\"><img src=\"https://colab.research.google.com/assets/colab-badge.svg\" alt=\"Open In Colab\"/></a>"
      ]
    },
    {
      "cell_type": "code",
      "metadata": {
        "id": "45mpuyx41DOX",
        "colab_type": "code",
        "colab": {}
      },
      "source": [
        "import pandas as pd\n",
        "import numpy as np\n",
        "from sklearn.preprocessing import OneHotEncoder\n",
        "from sklearn.preprocessing import OrdinalEncoder\n",
        "from sklearn.model_selection import train_test_split\n",
        "from sklearn.svm import SVC\n",
        "from sklearn.metrics import f1_score\n",
        "from sklearn.exceptions import NotFittedError\n",
        "import tensorflow as tf\n",
        "from tqdm.notebook import tqdm, trange\n",
        "import keras.backend as K"
      ],
      "execution_count": 0,
      "outputs": []
    },
    {
      "cell_type": "code",
      "metadata": {
        "id": "vIdoRa1c1HSw",
        "colab_type": "code",
        "outputId": "d8f5101e-246c-447b-b701-b8900d636022",
        "colab": {
          "base_uri": "https://localhost:8080/",
          "height": 54
        }
      },
      "source": [
        "print(\"Loading data\")\n",
        "file = './train.csv'\n",
        "data = pd.read_csv(file)\n",
        "sub = pd.read_csv('./test.csv')\n",
        "print(\"Preprocessing\")"
      ],
      "execution_count": 0,
      "outputs": [
        {
          "output_type": "stream",
          "text": [
            "Loading data\n",
            "Preprocessing\n"
          ],
          "name": "stdout"
        }
      ]
    },
    {
      "cell_type": "code",
      "metadata": {
        "id": "bs026mfz1JXQ",
        "colab_type": "code",
        "colab": {}
      },
      "source": [
        "def preprocess_OHE(data_train, data_sub):\n",
        "    X = data_train['Sequence']\n",
        "    Y = data_train['Active']\n",
        "    X_sub = data_sub['Sequence']\n",
        "    X_train, X_test, Y_train, Y_test = train_test_split(X, Y, test_size=0.01, random_state=42)\n",
        "\n",
        "    enc = OneHotEncoder()\n",
        "    X_train = preprocess_OHE_X(X_train, enc)\n",
        "    X_test = preprocess_OHE_X(X_test, enc)\n",
        "    X_sub = preprocess_OHE_X(X_sub, enc)\n",
        "    return X_train, X_test, Y_train, Y_test, X_sub\n",
        "\n",
        "def preprocess_OHE_X(X_i, enc):\n",
        "    X_i = X_i.apply(lambda x: list(x))\n",
        "    X_i = np.array(X_i.tolist())\n",
        "    X_i[X_i=='B'] = 'D'\n",
        "    \n",
        "    try:\n",
        "        X_i = enc.transform(X_i).toarray()\n",
        "    except NotFittedError:\n",
        "        enc.fit(X_i)\n",
        "        X_i = enc.transform(X_i).toarray()\n",
        "    return X_i\n",
        "\n",
        "X_train, X_test, Y_train, Y_test, X_sub = preprocess_OHE(data, sub)"
      ],
      "execution_count": 0,
      "outputs": []
    },
    {
      "cell_type": "code",
      "metadata": {
        "id": "kb1vJ8dDrcYH",
        "colab_type": "code",
        "outputId": "a0344c6f-a11b-4415-80c5-fc76423a9c48",
        "colab": {
          "base_uri": "https://localhost:8080/",
          "height": 293
        }
      },
      "source": [
        "print(\"Training model\")\n",
        "model = tf.keras.Sequential([tf.keras.layers.Dense(60, input_shape=X_train[0].shape, activation='relu'),\n",
        "                             tf.keras.layers.Dense(20, activation='relu'),\n",
        "                             tf.keras.layers.Dense(1, activation='sigmoid')])\n",
        "\n",
        "optimizer = tf.keras.optimizers.Adam(learning_rate=1e-4)\n",
        "\n",
        "class_weight = {0: 1.,\n",
        "                1: 50.}\n",
        "\n",
        "\"\"\"def f1_score(y_true, y_pred):\n",
        "    true_positives = K.sum(K.round(K.clip(y_true * y_pred, 0, 1)))\n",
        "    possible_positives = K.sum(K.round(K.clip(y_true, 0, 1)))\n",
        "    predicted_positives = K.sum(K.round(K.clip(y_pred, 0, 1)))\n",
        "    precision = true_positives / (predicted_positives + K.epsilon())\n",
        "    recall = true_positives / (possible_positives + K.epsilon())\n",
        "    f1_val = 2*(precision*recall)/(precision+recall+K.epsilon())\n",
        "    return f1_val\"\"\"\n",
        "\n",
        "loss_function = tf.keras.losses.BinaryCrossentropy()\n",
        "test_accuracy = f1_score\n",
        "\n",
        "\n",
        "def binary_step(x):\n",
        "    x[x<0.5] = 0.\n",
        "    x[x>=0.5] = 1.\n",
        "    return x\n",
        "\n",
        "\n",
        "def test_step(data, labels):\n",
        "    predictions = model.predict(data)\n",
        "    predictions = binary_step(predictions[:,0])\n",
        "    print(f\"f1: {test_accuracy(labels, predictions)}\")\n",
        "\n",
        "model.summary()"
      ],
      "execution_count": 0,
      "outputs": [
        {
          "output_type": "stream",
          "text": [
            "Training model\n",
            "Model: \"sequential_4\"\n",
            "_________________________________________________________________\n",
            "Layer (type)                 Output Shape              Param #   \n",
            "=================================================================\n",
            "dense_12 (Dense)             (None, 60)                4860      \n",
            "_________________________________________________________________\n",
            "dense_13 (Dense)             (None, 20)                1220      \n",
            "_________________________________________________________________\n",
            "dense_14 (Dense)             (None, 1)                 21        \n",
            "=================================================================\n",
            "Total params: 6,101\n",
            "Trainable params: 6,101\n",
            "Non-trainable params: 0\n",
            "_________________________________________________________________\n"
          ],
          "name": "stdout"
        }
      ]
    },
    {
      "cell_type": "code",
      "metadata": {
        "id": "Wivl1j4xt98O",
        "colab_type": "code",
        "outputId": "8e97e56c-f284-40a4-9a81-e30b1fcabd15",
        "colab": {
          "base_uri": "https://localhost:8080/",
          "height": 1000,
          "referenced_widgets": [
            "3f64bebd51fc4b6aa0d5f2be88c07ac4",
            "b54879e1e5214e48bdd6b5eed4a629c2",
            "7fd999fa18284c89ab39b7dded373971",
            "05cf6d2236604f9bb70dd85d1d875a43",
            "a2a2526f09ff4aa580ffd078907942d6",
            "2c3cd870163f4489af7b797b86fc1ff3",
            "dc869fc7a02541588529518858df0aae",
            "b447ba11840243aa8941b6f7951d6267"
          ]
        }
      },
      "source": [
        "EPOCHS = 100\n",
        "\n",
        "def partition_data(items, n):\n",
        "    res = []\n",
        "    for it in items:\n",
        "      res.append(np.array_split(it, n,axis=0))\n",
        "    return list(map(list, zip(*res)))\n",
        "\n",
        "#train_ds = partition_data([X_train, Y_train], 5)\n",
        "\n",
        "model.compile(optimizer, loss_function)\n",
        "for epoch in trange(EPOCHS):\n",
        "    print(f\"Epoch {epoch+1}\")\n",
        "    # Reset the metrics at the start of the next epoch\n",
        "    #for data, labels in train_ds:\n",
        "    #    model.fit(data, labels, class_weight=class_weight)\n",
        "    model.fit(X_train, Y_train, class_weight=class_weight)\n",
        "    test_step(X_test, Y_test)\n",
        "\n"
      ],
      "execution_count": 0,
      "outputs": [
        {
          "output_type": "display_data",
          "data": {
            "application/vnd.jupyter.widget-view+json": {
              "model_id": "3f64bebd51fc4b6aa0d5f2be88c07ac4",
              "version_minor": 0,
              "version_major": 2
            },
            "text/plain": [
              "HBox(children=(IntProgress(value=0), HTML(value='')))"
            ]
          },
          "metadata": {
            "tags": []
          }
        },
        {
          "output_type": "stream",
          "text": [
            "Epoch 1\n",
            "3465/3465 [==============================] - 5s 1ms/step - loss: 1.1059\n",
            "f1: 0.37130801687763715\n",
            "Epoch 2\n",
            "3465/3465 [==============================] - 4s 1ms/step - loss: 0.4890\n",
            "f1: 0.4512820512820513\n",
            "Epoch 3\n",
            "3465/3465 [==============================] - 5s 1ms/step - loss: 0.4263\n",
            "f1: 0.4591836734693877\n",
            "Epoch 4\n",
            "3465/3465 [==============================] - 5s 1ms/step - loss: 0.3898\n",
            "f1: 0.4712041884816754\n",
            "Epoch 5\n",
            "3465/3465 [==============================] - 5s 1ms/step - loss: 0.3549\n",
            "f1: 0.4972375690607735\n",
            "Epoch 6\n",
            "3465/3465 [==============================] - 5s 1ms/step - loss: 0.3216\n",
            "f1: 0.5263157894736842\n",
            "Epoch 7\n",
            "3465/3465 [==============================] - 4s 1ms/step - loss: 0.2908\n",
            "f1: 0.5325443786982248\n",
            "Epoch 8\n",
            "3465/3465 [==============================] - 5s 1ms/step - loss: 0.2627\n",
            "f1: 0.6\n",
            "Epoch 9\n",
            "3465/3465 [==============================] - 5s 1ms/step - loss: 0.2389\n",
            "f1: 0.6122448979591837\n",
            "Epoch 10\n",
            "3465/3465 [==============================] - 5s 1ms/step - loss: 0.2184\n",
            "f1: 0.6382978723404256\n",
            "Epoch 11\n",
            "3465/3465 [==============================] - 5s 1ms/step - loss: 0.2009\n",
            "f1: 0.625\n",
            "Epoch 12\n",
            "3465/3465 [==============================] - 5s 1ms/step - loss: 0.1868\n",
            "f1: 0.6428571428571429\n",
            "Epoch 13\n",
            "3465/3465 [==============================] - 5s 1ms/step - loss: 0.1758\n",
            "f1: 0.6474820143884893\n",
            "Epoch 14\n",
            "3465/3465 [==============================] - 5s 1ms/step - loss: 0.1653\n",
            "f1: 0.6569343065693432\n",
            "Epoch 15\n",
            "3465/3465 [==============================] - 5s 1ms/step - loss: 0.1573\n",
            "f1: 0.6716417910447762\n",
            "Epoch 16\n",
            "3465/3465 [==============================] - 5s 1ms/step - loss: 0.1497\n",
            "f1: 0.6474820143884893\n",
            "Epoch 17\n",
            "3465/3465 [==============================] - 4s 1ms/step - loss: 0.1422\n",
            "f1: 0.6716417910447762\n",
            "Epoch 18\n",
            "3465/3465 [==============================] - 5s 1ms/step - loss: 0.1359\n",
            "f1: 0.6923076923076923\n",
            "Epoch 19\n",
            "3465/3465 [==============================] - 5s 1ms/step - loss: 0.1299\n",
            "f1: 0.6923076923076923\n",
            "Epoch 20\n",
            "3465/3465 [==============================] - 5s 1ms/step - loss: 0.1248\n",
            "f1: 0.7086614173228347\n",
            "Epoch 21\n",
            "3465/3465 [==============================] - 5s 1ms/step - loss: 0.1204\n",
            "f1: 0.7317073170731707\n",
            "Epoch 22\n",
            "3465/3465 [==============================] - 5s 1ms/step - loss: 0.1151\n",
            "f1: 0.7142857142857144\n",
            "Epoch 23\n",
            "3465/3465 [==============================] - 5s 1ms/step - loss: 0.1109\n",
            "f1: 0.743801652892562\n",
            "Epoch 24\n",
            "3465/3465 [==============================] - 5s 1ms/step - loss: 0.1070\n",
            "f1: 0.7317073170731707\n",
            "Epoch 25\n",
            "1518/3465 [============>.................] - ETA: 2s - loss: 0.1021"
          ],
          "name": "stdout"
        }
      ]
    },
    {
      "cell_type": "code",
      "metadata": {
        "id": "M8WPtHwT1MPh",
        "colab_type": "code",
        "colab": {}
      },
      "source": [
        ""
      ],
      "execution_count": 0,
      "outputs": []
    },
    {
      "cell_type": "code",
      "metadata": {
        "id": "jodxEiij1PqP",
        "colab_type": "code",
        "outputId": "a60fc3f2-d62b-40c9-f5e5-d80c6659f5af",
        "colab": {
          "base_uri": "https://localhost:8080/",
          "height": 35
        }
      },
      "source": [
        "print(\"Predicting on submission data\")\n",
        "Y_sub = model.predict(X_sub)\n",
        "Y_sub = binary_step(Y_sub[:,0])\n",
        "np.savetxt('./submit.csv', Y_sub, fmt='%d')"
      ],
      "execution_count": 0,
      "outputs": [
        {
          "output_type": "stream",
          "text": [
            "Predicting on submission data\n"
          ],
          "name": "stdout"
        }
      ]
    },
    {
      "cell_type": "code",
      "metadata": {
        "id": "HLcxDy0T1-en",
        "colab_type": "code",
        "colab": {}
      },
      "source": [
        ""
      ],
      "execution_count": 0,
      "outputs": []
    }
  ]
}